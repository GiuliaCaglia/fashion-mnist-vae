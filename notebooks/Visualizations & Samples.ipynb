{
 "cells": [
  {
   "cell_type": "markdown",
   "id": "5133ca1a-f861-4fca-b6b7-c327f17aef9a",
   "metadata": {},
   "source": [
    "# Visualizations and Samples"
   ]
  },
  {
   "cell_type": "code",
   "execution_count": 32,
   "id": "e43e7c85-ea13-4464-ba0a-1a2a603ccd2c",
   "metadata": {},
   "outputs": [],
   "source": [
    "import dill\n",
    "from fashion_mnist_vae.utils import utils, constants\n",
    "\n",
    "from torchvision.datasets import FashionMNIST\n",
    "import numpy as np\n",
    "import torch\n",
    "import pyro"
   ]
  },
  {
   "cell_type": "markdown",
   "id": "2dfe22fb-0a06-46c8-829d-b5609b253b0f",
   "metadata": {},
   "source": [
    "## Load Models"
   ]
  },
  {
   "cell_type": "code",
   "execution_count": 33,
   "id": "0c469fbd-ea7a-42ed-9af1-95a6a01a7399",
   "metadata": {},
   "outputs": [],
   "source": [
    "vae_path = constants.ASSETS_DIR.joinpath(\"vae\", \"model.pkl\")\n",
    "vae_con_path = constants.ASSETS_DIR.joinpath(\"vae_con\", \"model.pkl\")\n",
    "\n",
    "with vae_path.open(\"rb\") as f:\n",
    "    vae = dill.load(f)"
   ]
  },
  {
   "cell_type": "markdown",
   "id": "00cf27ec-5953-4b4e-974f-8401af9285cb",
   "metadata": {},
   "source": [
    "## Sample from Latent Space"
   ]
  },
  {
   "cell_type": "code",
   "execution_count": 67,
   "id": "5ad2c6e3-3277-424b-80e6-c86c7df0f23a",
   "metadata": {},
   "outputs": [],
   "source": [
    "rng = np.random.default_rng()\n",
    "noise = rng.uniform(0, 1, (25, 1, 28, 28))\n",
    "sampler = pyro.infer.Predictive(model=vae.model, guide=vae.guide, num_samples=1)\n",
    "samples = sampler.forward(torch.tensor(noise, dtype=torch.float32))[\"latent_space\"].reshape(25, 256)\n",
    "decoded_latent_samples = vae.decoder(samples)"
   ]
  },
  {
   "cell_type": "code",
   "execution_count": 94,
   "id": "314db0ae-3a43-4e5f-9207-caa2503be299",
   "metadata": {},
   "outputs": [],
   "source": [
    "ds = FashionMNIST(train=False, transform=utils.to_tensor, root=constants.ASSETS_DIR)\n",
    "x = torch.stack([ds[i][0] for i in range(25)], dim=0)"
   ]
  },
  {
   "cell_type": "code",
   "execution_count": 95,
   "id": "5890d804-4104-42d9-882d-b7864370c54a",
   "metadata": {},
   "outputs": [
    {
     "name": "stderr",
     "output_type": "stream",
     "text": [
      "/tmp/ipykernel_48951/275890075.py:1: UserWarning: To copy construct from a tensor, it is recommended to use sourceTensor.clone().detach() or sourceTensor.clone().detach().requires_grad_(True), rather than torch.tensor(sourceTensor).\n",
      "  z_loc, z_std = vae.encoder(torch.tensor(x, dtype=torch.float32).to(\"cuda\"))\n"
     ]
    },
    {
     "data": {
      "text/plain": [
       "(25, 28, 28)"
      ]
     },
     "execution_count": 95,
     "metadata": {},
     "output_type": "execute_result"
    }
   ],
   "source": [
    "z_loc, z_std = vae.encoder(torch.tensor(x, dtype=torch.float32).to(\"cuda\"))\n",
    "z = pyro.distributions.Normal(z_loc, z_std).sample()\n",
    "decoded = vae.decoder(z).detach().cpu().numpy().reshape(25, 28, 28) * 255\n",
    "decoded.shape"
   ]
  },
  {
   "cell_type": "markdown",
   "id": "e9e054ad-9b92-469d-accc-44a74d8548f2",
   "metadata": {},
   "source": [
    "## Visualize Examples"
   ]
  },
  {
   "cell_type": "code",
   "execution_count": 96,
   "id": "9c4575c7-87a2-4465-ace1-7c3ff2db575e",
   "metadata": {},
   "outputs": [],
   "source": [
    "actuals = utils.image_grid(x.detach().cpu().numpy().reshape(25, 28, 28) * 255, rows=5, cols=5)\n",
    "actuals.show()"
   ]
  },
  {
   "cell_type": "code",
   "execution_count": 97,
   "id": "e8dfba6b-e3d2-46d2-97bf-d1f6d4e27821",
   "metadata": {},
   "outputs": [],
   "source": [
    "image_grid = utils.image_grid(decoded, rows=5, cols=5)\n",
    "image_grid.show()"
   ]
  },
  {
   "cell_type": "markdown",
   "id": "e0bc9d2b-8096-4908-a232-3a46214cbf8b",
   "metadata": {},
   "source": [
    "### Visualize Conditional Examples"
   ]
  }
 ],
 "metadata": {
  "kernelspec": {
   "display_name": "Python 3 (ipykernel)",
   "language": "python",
   "name": "python3"
  },
  "language_info": {
   "codemirror_mode": {
    "name": "ipython",
    "version": 3
   },
   "file_extension": ".py",
   "mimetype": "text/x-python",
   "name": "python",
   "nbconvert_exporter": "python",
   "pygments_lexer": "ipython3",
   "version": "3.11.7"
  }
 },
 "nbformat": 4,
 "nbformat_minor": 5
}
